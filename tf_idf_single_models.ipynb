{
 "cells": [
  {
   "cell_type": "markdown",
   "metadata": {
    "id": "ADpHO3xV_SDB"
   },
   "source": [
    "# Using TFIDF Pipeline and Classical Algorithms"
   ]
  },
  {
   "cell_type": "code",
   "execution_count": 26,
   "metadata": {
    "tags": []
   },
   "outputs": [
    {
     "data": {
      "text/plain": [
       "'/run/media/kuldeepsingh/Work/college_stuff/courses/semester_3/cse_482/project'"
      ]
     },
     "execution_count": 26,
     "metadata": {},
     "output_type": "execute_result"
    }
   ],
   "source": [
    "pwd"
   ]
  },
  {
   "cell_type": "code",
   "execution_count": 27,
   "metadata": {
    "colab": {
     "base_uri": "https://localhost:8080/",
     "height": 122
    },
    "id": "KdfHWIis_SDD",
    "outputId": "0b9e6dcb-e17c-40c2-eed7-14c908737127",
    "tags": []
   },
   "outputs": [],
   "source": [
    "# from google.colab import drive\n",
    "# drive.mount('/content/gdrive')"
   ]
  },
  {
   "cell_type": "code",
   "execution_count": 28,
   "metadata": {
    "id": "QhWqs-YaAenF",
    "tags": []
   },
   "outputs": [],
   "source": [
    "# path = \"/content/gdrive/My Drive/identify_the_sentiments/\""
   ]
  },
  {
   "cell_type": "code",
   "execution_count": 1,
   "metadata": {
    "id": "aAMDA1WyAyNO",
    "tags": []
   },
   "outputs": [],
   "source": [
    "import pandas as pd\n",
    "import numpy as np\n",
    "import re\n",
    "from sklearn.pipeline import Pipeline, FeatureUnion\n",
    "from sklearn.base import BaseEstimator, TransformerMixin\n",
    "from sklearn.feature_extraction.text import TfidfVectorizer, CountVectorizer\n",
    "from sklearn.svm import SVC\n",
    "from sklearn.model_selection import GridSearchCV\n",
    "from sklearn.decomposition import TruncatedSVD\n",
    "from sklearn.ensemble import RandomForestClassifier, AdaBoostClassifier\n",
    "from sklearn.linear_model import LogisticRegression\n",
    "from sklearn.naive_bayes import MultinomialNB\n",
    "from sklearn.neighbors import KNeighborsClassifier\n",
    "from sklearn.preprocessing import FunctionTransformer\n",
    "from sklearn.preprocessing import StandardScaler, OneHotEncoder\n",
    "from sklearn.compose import ColumnTransformer\n",
    "from sklearn.ensemble import StackingClassifier, StackingRegressor\n",
    "from sklearn.ensemble import VotingClassifier\n",
    "\n",
    "\n",
    "import warnings\n",
    "warnings.filterwarnings(\"ignore\")"
   ]
  },
  {
   "cell_type": "code",
   "execution_count": 2,
   "metadata": {
    "tags": []
   },
   "outputs": [],
   "source": [
    "import seaborn as sns\n",
    "import matplotlib.pyplot as plt"
   ]
  },
  {
   "cell_type": "code",
   "execution_count": 3,
   "metadata": {
    "tags": []
   },
   "outputs": [],
   "source": [
    "sns.set(style=\"whitegrid\", palette=\"pastel\")"
   ]
  },
  {
   "cell_type": "code",
   "execution_count": null,
   "metadata": {},
   "outputs": [],
   "source": []
  },
  {
   "cell_type": "code",
   "execution_count": 4,
   "metadata": {
    "colab": {
     "base_uri": "https://localhost:8080/",
     "height": 34
    },
    "id": "hVjDGY_OAy4M",
    "outputId": "a60fe0c3-e8c1-43de-ebf9-69347be7697c",
    "tags": []
   },
   "outputs": [
    {
     "data": {
      "text/plain": [
       "((7920, 10),)"
      ]
     },
     "execution_count": 4,
     "metadata": {},
     "output_type": "execute_result"
    }
   ],
   "source": [
    "# train = pd.read_csv(path + \"data/train_data/train_data.csv\")\n",
    "# test = pd.read_csv(path + \"data/test_data/test_data.csv\")\n",
    "\n",
    "train = pd.read_csv(\"data/train_data.csv\")\n",
    "# test = pd.read_csv(\"data/test_data.csv\")\n",
    "\n",
    "\n",
    "train.shape, #test.shape"
   ]
  },
  {
   "cell_type": "code",
   "execution_count": 5,
   "metadata": {
    "colab": {
     "base_uri": "https://localhost:8080/",
     "height": 272
    },
    "id": "X9TAqgfUHWob",
    "outputId": "a46f5fdb-3581-46ab-b187-4758ef380994",
    "tags": []
   },
   "outputs": [
    {
     "data": {
      "text/html": [
       "<div>\n",
       "<style scoped>\n",
       "    .dataframe tbody tr th:only-of-type {\n",
       "        vertical-align: middle;\n",
       "    }\n",
       "\n",
       "    .dataframe tbody tr th {\n",
       "        vertical-align: top;\n",
       "    }\n",
       "\n",
       "    .dataframe thead th {\n",
       "        text-align: right;\n",
       "    }\n",
       "</style>\n",
       "<table border=\"1\" class=\"dataframe\">\n",
       "  <thead>\n",
       "    <tr style=\"text-align: right;\">\n",
       "      <th></th>\n",
       "      <th>id</th>\n",
       "      <th>label</th>\n",
       "      <th>tweet</th>\n",
       "      <th>topics</th>\n",
       "      <th>num_topics</th>\n",
       "      <th>extracted_emojis</th>\n",
       "      <th>num_emojis</th>\n",
       "      <th>length_of_tweet</th>\n",
       "      <th>num_of_slurrs</th>\n",
       "      <th>emoji_score</th>\n",
       "    </tr>\n",
       "  </thead>\n",
       "  <tbody>\n",
       "    <tr>\n",
       "      <th>0</th>\n",
       "      <td>1</td>\n",
       "      <td>0</td>\n",
       "      <td>#fingerprint #Pregnancy Test https://goo.gl/h1...</td>\n",
       "      <td>fingerprint pregnancy android apps beautiful c...</td>\n",
       "      <td>11.0</td>\n",
       "      <td>noemoji</td>\n",
       "      <td>0.0</td>\n",
       "      <td>13</td>\n",
       "      <td>0.0</td>\n",
       "      <td>0</td>\n",
       "    </tr>\n",
       "    <tr>\n",
       "      <th>1</th>\n",
       "      <td>2</td>\n",
       "      <td>0</td>\n",
       "      <td>Finally a transparant silicon case ^^ Thanks t...</td>\n",
       "      <td>yay sony xperia s sonyexperias…</td>\n",
       "      <td>5.0</td>\n",
       "      <td>:)</td>\n",
       "      <td>1.0</td>\n",
       "      <td>17</td>\n",
       "      <td>0.0</td>\n",
       "      <td>2</td>\n",
       "    </tr>\n",
       "    <tr>\n",
       "      <th>2</th>\n",
       "      <td>3</td>\n",
       "      <td>0</td>\n",
       "      <td>We love this! Would you go? #talk #makememorie...</td>\n",
       "      <td>talk makememories unplug relax iphone smartpho...</td>\n",
       "      <td>8.0</td>\n",
       "      <td>noemoji</td>\n",
       "      <td>0.0</td>\n",
       "      <td>15</td>\n",
       "      <td>0.0</td>\n",
       "      <td>0</td>\n",
       "    </tr>\n",
       "    <tr>\n",
       "      <th>3</th>\n",
       "      <td>4</td>\n",
       "      <td>0</td>\n",
       "      <td>I'm wired I know I'm George I was made that wa...</td>\n",
       "      <td>iphone cute daventry home</td>\n",
       "      <td>4.0</td>\n",
       "      <td>;)</td>\n",
       "      <td>1.0</td>\n",
       "      <td>17</td>\n",
       "      <td>0.0</td>\n",
       "      <td>0</td>\n",
       "    </tr>\n",
       "    <tr>\n",
       "      <th>4</th>\n",
       "      <td>5</td>\n",
       "      <td>1</td>\n",
       "      <td>What amazing service! Apple won't even talk to...</td>\n",
       "      <td>no_topics</td>\n",
       "      <td>0.0</td>\n",
       "      <td>noemoji</td>\n",
       "      <td>0.0</td>\n",
       "      <td>23</td>\n",
       "      <td>0.0</td>\n",
       "      <td>0</td>\n",
       "    </tr>\n",
       "  </tbody>\n",
       "</table>\n",
       "</div>"
      ],
      "text/plain": [
       "   id  label                                              tweet  \\\n",
       "0   1      0  #fingerprint #Pregnancy Test https://goo.gl/h1...   \n",
       "1   2      0  Finally a transparant silicon case ^^ Thanks t...   \n",
       "2   3      0  We love this! Would you go? #talk #makememorie...   \n",
       "3   4      0  I'm wired I know I'm George I was made that wa...   \n",
       "4   5      1  What amazing service! Apple won't even talk to...   \n",
       "\n",
       "                                              topics  num_topics  \\\n",
       "0  fingerprint pregnancy android apps beautiful c...        11.0   \n",
       "1                    yay sony xperia s sonyexperias…         5.0   \n",
       "2  talk makememories unplug relax iphone smartpho...         8.0   \n",
       "3                          iphone cute daventry home         4.0   \n",
       "4                                          no_topics         0.0   \n",
       "\n",
       "  extracted_emojis  num_emojis  length_of_tweet  num_of_slurrs  emoji_score  \n",
       "0          noemoji         0.0               13            0.0            0  \n",
       "1               :)         1.0               17            0.0            2  \n",
       "2          noemoji         0.0               15            0.0            0  \n",
       "3               ;)         1.0               17            0.0            0  \n",
       "4          noemoji         0.0               23            0.0            0  "
      ]
     },
     "execution_count": 5,
     "metadata": {},
     "output_type": "execute_result"
    }
   ],
   "source": [
    "train.head()"
   ]
  },
  {
   "cell_type": "code",
   "execution_count": 6,
   "metadata": {
    "colab": {
     "base_uri": "https://localhost:8080/",
     "height": 153
    },
    "id": "waXNdVI44LNO",
    "outputId": "1999bba3-204e-4759-97fd-a6bc4ec2946c",
    "tags": []
   },
   "outputs": [
    {
     "data": {
      "text/plain": [
       "id                  0\n",
       "label               0\n",
       "tweet               0\n",
       "topics              0\n",
       "num_topics          0\n",
       "extracted_emojis    0\n",
       "num_emojis          0\n",
       "length_of_tweet     0\n",
       "num_of_slurrs       0\n",
       "emoji_score         0\n",
       "dtype: int64"
      ]
     },
     "execution_count": 6,
     "metadata": {},
     "output_type": "execute_result"
    }
   ],
   "source": [
    "train.isnull().sum()"
   ]
  },
  {
   "cell_type": "code",
   "execution_count": 7,
   "metadata": {
    "colab": {
     "base_uri": "https://localhost:8080/",
     "height": 255
    },
    "id": "2XH_fsVzs2mS",
    "outputId": "a7c36e7b-62f1-4162-c14f-0e693f0c3843",
    "tags": []
   },
   "outputs": [],
   "source": [
    "# emoji_dict = {}\n",
    "# for s in train.emoji:\n",
    "#     if type(s) == str:\n",
    "#         emojis = s.split()\n",
    "#         for e in emojis:\n",
    "#             if e not in emoji_dict.keys():\n",
    "#                 emoji_dict[e] = 0\n",
    "#             else:\n",
    "#                 emoji_dict[e] += 1\n",
    "\n",
    "# emoji_dict"
   ]
  },
  {
   "cell_type": "code",
   "execution_count": 8,
   "metadata": {
    "id": "t1lsOkGPRU0x",
    "tags": []
   },
   "outputs": [],
   "source": [
    "def preprocess_tweet(tweet):\n",
    "    #convert the tweet to lower case\n",
    "    tweet = tweet.lower()\n",
    "    \n",
    "    #convert all urls to sting \"URL\"\n",
    "    tweet = re.sub('((www\\.[^\\s]+)|(https?://[^\\s]+))','URL',tweet)\n",
    "    \n",
    "    #convert all @username to \"AT_USER\"\n",
    "    tweet = re.sub('@[^\\s]+','username', tweet)\n",
    "    \n",
    "    # coverting \"$&@*#\" to slur\n",
    "    tweet = re.sub('$&@*#','profane', tweet)\n",
    "\n",
    "    #correct all multiple white spaces to a single white space\n",
    "    tweet = re.sub('[\\s]+', ' ', tweet)\n",
    "    \n",
    "    #convert \"#topic\" to just \"topic\"\n",
    "    # tweet = re.sub(r'#([^\\s]+)', r'\\1', tweet)\n",
    "    tweet = re.sub(r'#([^\\s]+)', r' ', tweet)\n",
    "    \n",
    "    #correct all multiple white spaces to a single white space\n",
    "    tweet = re.sub('[\\s]+', ' ', tweet)\n",
    "\n",
    "    return tweet.lower().strip()\n",
    "\n",
    "\n",
    "def extract_topics(tweet):\n",
    "    pattern = re.compile(r'#([^\\s]+)')\n",
    "    matches = pattern.findall(tweet)\n",
    "    topic_string = \" \".join(list(set(matches)))\n",
    "    if len(topic_string) < 1:\n",
    "        topic_string = \"no_topics\"\n",
    "    return topic_string.lower().strip()\n",
    "\n",
    "def num_topics(tweet):\n",
    "    pattern = re.compile(r'#([^\\s]+)')\n",
    "    matches = pattern.findall(tweet)\n",
    "    topic_string = \" \".join(matches)\n",
    "    return float(len(topic_string.split()))\n",
    "\n",
    "\n",
    "def extract_emojis(tweet):\n",
    "    pattern = re.compile(r\"(?::|;|=)(?:-)?(?:\\)|\\(|D|P)\")\n",
    "    matches = pattern.findall(tweet)\n",
    "    emoji_string = \" \".join(matches)\n",
    "    if len(emoji_string) < 1:\n",
    "        emoji_string = \"noemoji\"\n",
    "    return emoji_string.lower().strip()\n",
    "\n",
    "def num_emojis(string):\n",
    "    pattern = re.compile(r\"(?::|;|=)(?:-)?(?:\\)|\\(|D|P)\")\n",
    "    matches = pattern.findall(string)\n",
    "    emoji_string = \" \".join(matches)\n",
    "    return float(len(emoji_string.split()))\n",
    "\n",
    "def emoji_tokenizer(text):\n",
    "    return text.strip().split()\n",
    "\n",
    "\n",
    "# length of tweet\n",
    "def length_of_tweet(text):\n",
    "    return len(text.lower().strip().split())\n",
    "\n",
    "# num of slurrs\n",
    "def num_of_slurrs(text):\n",
    "    num_of_slurrs = float(text.count(\"$&@*#\")) + float(text.count(\"fuck\")) + float(text.count(\"crap\"))\n",
    "    return num_of_slurrs\n",
    "\n",
    "\n",
    "# emoji score \n",
    "def get_emoji_score(tweet):\n",
    "    emoji_type_dict = {\n",
    "        \"noemoji\": 0,\n",
    "        ':(': -2,\n",
    "        ':)': 2,\n",
    "        ':-(': -2,\n",
    "        ':-)': 2,\n",
    "        ':-D': 2,\n",
    "        ':D': 2,\n",
    "        ':P': -1,\n",
    "        ';)': 0,\n",
    "        ';-)': 0,\n",
    "        ';D': 0,\n",
    "        '=(': -2,\n",
    "        '=)': 2,\n",
    "        '=D': 2,\n",
    "        '=P': 0,\n",
    "        ':-P': -1\n",
    "    }\n",
    "    \n",
    "    pattern = re.compile(r\"(?::|;|=)(?:-)?(?:\\)|\\(|D|P)\")\n",
    "    matches = pattern.findall(tweet)\n",
    "    emoji_string = \" \".join(matches)\n",
    "    if len(emoji_string) < 1:\n",
    "        emoji_string = \"noemoji\"\n",
    "    score_list = [emoji_type_dict[e] for e in emoji_string.split()]\n",
    "    return sum(score_list)"
   ]
  },
  {
   "cell_type": "code",
   "execution_count": 9,
   "metadata": {
    "id": "Ij18zzv2SPS2",
    "tags": []
   },
   "outputs": [],
   "source": [
    "train[\"topics\"] = train.tweet.apply(extract_topics)\n",
    "train[\"num_topics\"] = train.tweet.apply(num_topics)\n",
    "train[\"extracted_emojis\"] = train.tweet.apply(extract_emojis)\n",
    "train[\"num_emojis\"] = train.tweet.apply(num_emojis)\n",
    "train[\"length_of_tweet\"] = train.tweet.apply(length_of_tweet)\n",
    "train[\"num_of_slurrs\"] = train.tweet.apply(num_of_slurrs)\n",
    "train[\"emoji_score\"] = train.tweet.apply(get_emoji_score)\n",
    "train[\"tweet_preprocessed\"] = train.tweet.apply(preprocess_tweet)\n",
    "\n",
    "\n",
    "\n",
    "# test[\"topics\"] = test.tweet.apply(extract_topics)\n",
    "# test[\"num_topics\"] = test.tweet.apply(num_topics)\n",
    "# test[\"extracted_emojis\"] = test.tweet.apply(extract_emojis)\n",
    "# test[\"num_emojis\"] = test.tweet.apply(num_emojis)\n",
    "# test[\"length_of_tweet\"] = test.tweet.apply(length_of_tweet)\n",
    "# test[\"num_of_slurrs\"] = test.tweet.apply(num_of_slurrs)\n",
    "# test[\"emoji_score\"] = test.tweet.apply(get_emoji_score)"
   ]
  },
  {
   "cell_type": "code",
   "execution_count": 10,
   "metadata": {
    "colab": {
     "base_uri": "https://localhost:8080/",
     "height": 170
    },
    "id": "mRpxF1KAikrJ",
    "outputId": "10e20f85-43fc-42d4-d4fc-6c96c1c36be1",
    "tags": []
   },
   "outputs": [
    {
     "data": {
      "text/html": [
       "<div>\n",
       "<style scoped>\n",
       "    .dataframe tbody tr th:only-of-type {\n",
       "        vertical-align: middle;\n",
       "    }\n",
       "\n",
       "    .dataframe tbody tr th {\n",
       "        vertical-align: top;\n",
       "    }\n",
       "\n",
       "    .dataframe thead th {\n",
       "        text-align: right;\n",
       "    }\n",
       "</style>\n",
       "<table border=\"1\" class=\"dataframe\">\n",
       "  <thead>\n",
       "    <tr style=\"text-align: right;\">\n",
       "      <th></th>\n",
       "      <th>id</th>\n",
       "      <th>label</th>\n",
       "      <th>tweet</th>\n",
       "      <th>topics</th>\n",
       "      <th>num_topics</th>\n",
       "      <th>extracted_emojis</th>\n",
       "      <th>num_emojis</th>\n",
       "      <th>length_of_tweet</th>\n",
       "      <th>num_of_slurrs</th>\n",
       "      <th>emoji_score</th>\n",
       "      <th>tweet_preprocessed</th>\n",
       "    </tr>\n",
       "  </thead>\n",
       "  <tbody>\n",
       "    <tr>\n",
       "      <th>0</th>\n",
       "      <td>1</td>\n",
       "      <td>0</td>\n",
       "      <td>#fingerprint #Pregnancy Test https://goo.gl/h1...</td>\n",
       "      <td>android iphone iphonesia cute iphoneonly apps ...</td>\n",
       "      <td>11.0</td>\n",
       "      <td>noemoji</td>\n",
       "      <td>0.0</td>\n",
       "      <td>13</td>\n",
       "      <td>0.0</td>\n",
       "      <td>0</td>\n",
       "      <td>test url</td>\n",
       "    </tr>\n",
       "    <tr>\n",
       "      <th>1</th>\n",
       "      <td>2</td>\n",
       "      <td>0</td>\n",
       "      <td>Finally a transparant silicon case ^^ Thanks t...</td>\n",
       "      <td>yay sony xperia s sonyexperias…</td>\n",
       "      <td>5.0</td>\n",
       "      <td>:)</td>\n",
       "      <td>1.0</td>\n",
       "      <td>17</td>\n",
       "      <td>0.0</td>\n",
       "      <td>2</td>\n",
       "      <td>finally a transparant silicon case ^^ thanks t...</td>\n",
       "    </tr>\n",
       "    <tr>\n",
       "      <th>2</th>\n",
       "      <td>3</td>\n",
       "      <td>0</td>\n",
       "      <td>We love this! Would you go? #talk #makememorie...</td>\n",
       "      <td>iphone smartphone relax unplug makememories wi...</td>\n",
       "      <td>8.0</td>\n",
       "      <td>noemoji</td>\n",
       "      <td>0.0</td>\n",
       "      <td>15</td>\n",
       "      <td>0.0</td>\n",
       "      <td>0</td>\n",
       "      <td>we love this! would you go? url</td>\n",
       "    </tr>\n",
       "    <tr>\n",
       "      <th>3</th>\n",
       "      <td>4</td>\n",
       "      <td>0</td>\n",
       "      <td>I'm wired I know I'm George I was made that wa...</td>\n",
       "      <td>iphone home cute daventry</td>\n",
       "      <td>4.0</td>\n",
       "      <td>;)</td>\n",
       "      <td>1.0</td>\n",
       "      <td>17</td>\n",
       "      <td>0.0</td>\n",
       "      <td>0</td>\n",
       "      <td>i'm wired i know i'm george i was made that wa...</td>\n",
       "    </tr>\n",
       "    <tr>\n",
       "      <th>4</th>\n",
       "      <td>5</td>\n",
       "      <td>1</td>\n",
       "      <td>What amazing service! Apple won't even talk to...</td>\n",
       "      <td>no_topics</td>\n",
       "      <td>0.0</td>\n",
       "      <td>noemoji</td>\n",
       "      <td>0.0</td>\n",
       "      <td>23</td>\n",
       "      <td>0.0</td>\n",
       "      <td>0</td>\n",
       "      <td>what amazing service! apple won't even talk to...</td>\n",
       "    </tr>\n",
       "  </tbody>\n",
       "</table>\n",
       "</div>"
      ],
      "text/plain": [
       "   id  label                                              tweet  \\\n",
       "0   1      0  #fingerprint #Pregnancy Test https://goo.gl/h1...   \n",
       "1   2      0  Finally a transparant silicon case ^^ Thanks t...   \n",
       "2   3      0  We love this! Would you go? #talk #makememorie...   \n",
       "3   4      0  I'm wired I know I'm George I was made that wa...   \n",
       "4   5      1  What amazing service! Apple won't even talk to...   \n",
       "\n",
       "                                              topics  num_topics  \\\n",
       "0  android iphone iphonesia cute iphoneonly apps ...        11.0   \n",
       "1                    yay sony xperia s sonyexperias…         5.0   \n",
       "2  iphone smartphone relax unplug makememories wi...         8.0   \n",
       "3                          iphone home cute daventry         4.0   \n",
       "4                                          no_topics         0.0   \n",
       "\n",
       "  extracted_emojis  num_emojis  length_of_tweet  num_of_slurrs  emoji_score  \\\n",
       "0          noemoji         0.0               13            0.0            0   \n",
       "1               :)         1.0               17            0.0            2   \n",
       "2          noemoji         0.0               15            0.0            0   \n",
       "3               ;)         1.0               17            0.0            0   \n",
       "4          noemoji         0.0               23            0.0            0   \n",
       "\n",
       "                                  tweet_preprocessed  \n",
       "0                                           test url  \n",
       "1  finally a transparant silicon case ^^ thanks t...  \n",
       "2                    we love this! would you go? url  \n",
       "3  i'm wired i know i'm george i was made that wa...  \n",
       "4  what amazing service! apple won't even talk to...  "
      ]
     },
     "execution_count": 10,
     "metadata": {},
     "output_type": "execute_result"
    }
   ],
   "source": [
    "train.head()"
   ]
  },
  {
   "cell_type": "code",
   "execution_count": 11,
   "metadata": {
    "tags": []
   },
   "outputs": [
    {
     "data": {
      "text/plain": [
       "0    5894\n",
       "1    2026\n",
       "Name: label, dtype: int64"
      ]
     },
     "execution_count": 11,
     "metadata": {},
     "output_type": "execute_result"
    }
   ],
   "source": [
    "train.label.value_counts()"
   ]
  },
  {
   "cell_type": "code",
   "execution_count": 40,
   "metadata": {
    "tags": []
   },
   "outputs": [
    {
     "data": {
      "image/png": "[encoded data removed]",
      "text/plain": [
       "<Figure size 800x600 with 1 Axes>"
      ]
     },
     "metadata": {},
     "output_type": "display_data"
    }
   ],
   "source": [
    "categories = ['Positive', 'Negative']\n",
    "values = [5894, 2026]\n",
    "\n",
    "# Create a figure and axis\n",
    "plt.figure(figsize=(8, 6))\n",
    "\n",
    "custom_palette = {\"Positive\": \"#50C878\", \"Negative\": \"#FF6B6B\"}\n",
    "\n",
    "# Create the bar chart\n",
    "sns.barplot(x=categories, y=values, palette=custom_palette)\n",
    "\n",
    "# Customize the appearance\n",
    "plt.title('Dist of Labels')\n",
    "plt.xlabel('Labels')\n",
    "plt.ylabel('Counts')\n",
    "# Set the background color to off-white\n",
    "ax = plt.gca()\n",
    "ax.set_facecolor('#f0f0f0')  # Change the color code to your desired off-white shade\n",
    "plt.show()"
   ]
  },
  {
   "cell_type": "code",
   "execution_count": 41,
   "metadata": {
    "tags": []
   },
   "outputs": [
    {
     "data": {
      "text/plain": [
       "Positive    5894\n",
       "Negative    2026\n",
       "Name: label, dtype: int64"
      ]
     },
     "execution_count": 41,
     "metadata": {},
     "output_type": "execute_result"
    }
   ],
   "source": [
    "train.loc[train.label == 0, 'label'] = \"Positive\"\n",
    "train.loc[train.label == 1, 'label'] = \"Negative\"\n",
    "train.label.value_counts()"
   ]
  },
  {
   "cell_type": "code",
   "execution_count": 42,
   "metadata": {
    "tags": []
   },
   "outputs": [
    {
     "data": {
      "image/png": "[encoded data removed]",
      "text/plain": [
       "<Figure size 800x600 with 1 Axes>"
      ]
     },
     "metadata": {},
     "output_type": "display_data"
    }
   ],
   "source": [
    "# Create a sample DataFrame (replace this with your actual DataFrame)\n",
    "\n",
    "# Create a box plot using Seaborn\n",
    "plt.figure(figsize=(8, 6))  # Set the figure size\n",
    "\n",
    "sns.set(style=\"whitegrid\")  # Set the style\n",
    "\n",
    "custom_palette = {\"Positive\": \"#50C878\", \"Negative\": \"#FF6B6B\"}\n",
    "sns.boxplot(x='label', y='length_of_tweet', data=train, palette=custom_palette)  # Create the box plot with Seaborn\n",
    "\n",
    "plt.title('Box Plot of Length of Tweets for Labels')\n",
    "plt.xlabel('Labels')\n",
    "plt.ylabel('Counts')\n",
    "# Set the background color to off-white\n",
    "ax = plt.gca()\n",
    "ax.set_facecolor('#f0f0f0')  # Change the color code to your desired off-white shade\n",
    "plt.show()  # Display the plot"
   ]
  },
  {
   "cell_type": "code",
   "execution_count": 43,
   "metadata": {
    "tags": []
   },
   "outputs": [
    {
     "data": {
      "image/png": "[encoded data removed]",
      "text/plain": [
       "<Figure size 800x600 with 1 Axes>"
      ]
     },
     "metadata": {},
     "output_type": "display_data"
    }
   ],
   "source": [
    "# Create a sample DataFrame (replace this with your actual DataFrame)\n",
    "\n",
    "# Create a box plot using Seaborn\n",
    "plt.figure(figsize=(8, 6))  # Set the figure size\n",
    "\n",
    "sns.set(style=\"whitegrid\")  # Set the style\n",
    "\n",
    "custom_palette = {\"Positive\": \"#50C878\", \"Negative\": \"#FF6B6B\"}\n",
    "sns.boxplot(x='label', y='num_topics', data=train, palette=custom_palette)  # Create the box plot with Seaborn\n",
    "\n",
    "plt.title('Box Plot of Num #')\n",
    "plt.xlabel('Labels')\n",
    "plt.ylabel('Counts')\n",
    "# Set the background color to off-white\n",
    "ax = plt.gca()\n",
    "ax.set_facecolor('#f0f0f0')  # Change the color code to your desired off-white shade\n",
    "plt.show()  # Display the plot"
   ]
  },
  {
   "cell_type": "code",
   "execution_count": 44,
   "metadata": {
    "tags": []
   },
   "outputs": [
    {
     "data": {
      "image/png": "[encoded data removed]",
      "text/plain": [
       "<Figure size 800x600 with 1 Axes>"
      ]
     },
     "metadata": {},
     "output_type": "display_data"
    }
   ],
   "source": [
    "# Create a sample DataFrame (replace this with your actual DataFrame)\n",
    "\n",
    "# Create a box plot using Seaborn\n",
    "plt.figure(figsize=(8, 6))  # Set the figure size\n",
    "\n",
    "sns.set(style=\"whitegrid\")  # Set the style\n",
    "\n",
    "custom_palette = {\"Positive\": \"#50C878\", \"Negative\": \"#FF6B6B\"}\n",
    "sns.boxplot(x='label', y='num_of_slurrs', data=train[train.num_of_slurrs > 0], palette=custom_palette)  # Create the box plot with Seaborn\n",
    "\n",
    "plt.title('Box Plot of Num Slurr Words')\n",
    "plt.xlabel('Labels')\n",
    "plt.ylabel('Counts')\n",
    "# Set the background color to off-white\n",
    "ax = plt.gca()\n",
    "ax.set_facecolor('#f0f0f0')  # Change the color code to your desired off-white shade\n",
    "plt.show()  # Display the plot"
   ]
  },
  {
   "cell_type": "code",
   "execution_count": 46,
   "metadata": {
    "colab": {
     "base_uri": "https://localhost:8080/",
     "height": 34
    },
    "id": "NML11mNSENSc",
    "outputId": "428527d2-2c01-49b9-ab75-88f0363a1d13",
    "tags": []
   },
   "outputs": [
    {
     "data": {
      "image/png": "[encoded data removed]",
      "text/plain": [
       "<Figure size 800x600 with 1 Axes>"
      ]
     },
     "metadata": {},
     "output_type": "display_data"
    }
   ],
   "source": [
    "# train.emoji_score.hist()\n",
    "\n",
    "plt.figure(figsize=(8, 6))\n",
    "\n",
    "sns.histplot(train[train.emoji_score != 0].emoji_score, bins=50, color='skyblue', edgecolor='black')\n",
    "\n",
    "# Customize the appearance\n",
    "plt.title('Emoji Score Histogram')\n",
    "plt.xlabel('Emoji Score')\n",
    "plt.ylabel('Frequency')\n",
    "\n",
    "# Set the background color to off-white\n",
    "ax = plt.gca()\n",
    "ax.set_facecolor('#f0f0f0')  # Change the color code to your desired off-white shade\n",
    "\n",
    "plt.show()"
   ]
  },
  {
   "cell_type": "code",
   "execution_count": 47,
   "metadata": {
    "tags": []
   },
   "outputs": [
    {
     "data": {
      "image/png": "[encoded data removed]",
      "text/plain": [
       "<Figure size 800x600 with 1 Axes>"
      ]
     },
     "metadata": {},
     "output_type": "display_data"
    }
   ],
   "source": [
    "# train.num_topics.hist()\n",
    "plt.figure(figsize=(8, 6))\n",
    "\n",
    "sns.histplot(train.num_topics, bins=50, color='skyblue', edgecolor='black')\n",
    "\n",
    "# Customize the appearance\n",
    "plt.title('Number of Topics')\n",
    "plt.xlabel('# of topics')\n",
    "plt.ylabel('Frequency')\n",
    "\n",
    "# Set the background color to off-white\n",
    "ax = plt.gca()\n",
    "ax.set_facecolor('#f0f0f0')  # Change the color code to your desired off-white shade\n",
    "\n",
    "plt.show()"
   ]
  },
  {
   "cell_type": "code",
   "execution_count": 48,
   "metadata": {
    "tags": []
   },
   "outputs": [
    {
     "data": {
      "image/png": "[encoded data removed]",
      "text/plain": [
       "<Figure size 800x600 with 1 Axes>"
      ]
     },
     "metadata": {},
     "output_type": "display_data"
    }
   ],
   "source": [
    "# train.num_emojis.hist()\n",
    "\n",
    "plt.figure(figsize=(8, 6))\n",
    "\n",
    "sns.histplot(train.num_emojis, bins=50, color='skyblue', edgecolor='black')\n",
    "\n",
    "# Customize the appearance\n",
    "plt.title('Num Emojis Histogram')\n",
    "plt.xlabel('Emoji Score')\n",
    "plt.ylabel('Frequency')\n",
    "\n",
    "# Set the background color to off-white\n",
    "ax = plt.gca()\n",
    "ax.set_facecolor('#f0f0f0')  # Change the color code to your desired off-white shade\n",
    "\n",
    "plt.show()"
   ]
  },
  {
   "cell_type": "code",
   "execution_count": 49,
   "metadata": {
    "tags": []
   },
   "outputs": [
    {
     "data": {
      "image/png": "[encoded data removed]",
      "text/plain": [
       "<Figure size 800x600 with 1 Axes>"
      ]
     },
     "metadata": {},
     "output_type": "display_data"
    }
   ],
   "source": [
    "# train.length_of_tweet.hist()\n",
    "plt.figure(figsize=(8, 6))\n",
    "\n",
    "sns.histplot(train.length_of_tweet, bins=50, color='skyblue', edgecolor='black')\n",
    "\n",
    "# Customize the appearance\n",
    "plt.title('length_of_tweet Histogram')\n",
    "plt.xlabel('length_of_tweet')\n",
    "plt.ylabel('Frequency')\n",
    "\n",
    "# Set the background color to off-white\n",
    "ax = plt.gca()\n",
    "ax.set_facecolor('#f0f0f0')  # Change the color code to your desired off-white shade\n",
    "\n",
    "plt.show()"
   ]
  },
  {
   "cell_type": "code",
   "execution_count": 50,
   "metadata": {
    "tags": []
   },
   "outputs": [
    {
     "data": {
      "image/png": "[encoded data removed]",
      "text/plain": [
       "<Figure size 800x600 with 1 Axes>"
      ]
     },
     "metadata": {},
     "output_type": "display_data"
    }
   ],
   "source": [
    "# train.num_of_slurrs.hist()\n",
    "plt.figure(figsize=(8, 6))\n",
    "\n",
    "sns.histplot(train[train.num_of_slurrs > 0].num_of_slurrs, bins=50, color='skyblue', edgecolor='black')\n",
    "\n",
    "# Customize the appearance\n",
    "plt.title('num_of_slurrs Histogram')\n",
    "plt.xlabel('num_of_slurrs')\n",
    "plt.ylabel('Frequency')\n",
    "\n",
    "# Set the background color to off-white\n",
    "ax = plt.gca()\n",
    "ax.set_facecolor('#f0f0f0')  # Change the color code to your desired off-white shade\n",
    "\n",
    "plt.show()"
   ]
  },
  {
   "cell_type": "code",
   "execution_count": null,
   "metadata": {
    "tags": []
   },
   "outputs": [],
   "source": [
    "# ' '.join([w.lower() for item in train[(train.label == 'Negative')].topics.tolist() for w in item.split()])"
   ]
  },
  {
   "cell_type": "code",
   "execution_count": 12,
   "metadata": {
    "tags": []
   },
   "outputs": [
    {
     "data": {
      "text/html": [
       "<div>\n",
       "<style scoped>\n",
       "    .dataframe tbody tr th:only-of-type {\n",
       "        vertical-align: middle;\n",
       "    }\n",
       "\n",
       "    .dataframe tbody tr th {\n",
       "        vertical-align: top;\n",
       "    }\n",
       "\n",
       "    .dataframe thead th {\n",
       "        text-align: right;\n",
       "    }\n",
       "</style>\n",
       "<table border=\"1\" class=\"dataframe\">\n",
       "  <thead>\n",
       "    <tr style=\"text-align: right;\">\n",
       "      <th></th>\n",
       "      <th>id</th>\n",
       "      <th>label</th>\n",
       "      <th>tweet</th>\n",
       "      <th>topics</th>\n",
       "      <th>num_topics</th>\n",
       "      <th>extracted_emojis</th>\n",
       "      <th>num_emojis</th>\n",
       "      <th>length_of_tweet</th>\n",
       "      <th>num_of_slurrs</th>\n",
       "      <th>emoji_score</th>\n",
       "      <th>tweet_preprocessed</th>\n",
       "    </tr>\n",
       "  </thead>\n",
       "  <tbody>\n",
       "    <tr>\n",
       "      <th>0</th>\n",
       "      <td>1</td>\n",
       "      <td>0</td>\n",
       "      <td>#fingerprint #Pregnancy Test https://goo.gl/h1...</td>\n",
       "      <td>android iphone iphonesia cute iphoneonly apps ...</td>\n",
       "      <td>11.0</td>\n",
       "      <td>noemoji</td>\n",
       "      <td>0.0</td>\n",
       "      <td>13</td>\n",
       "      <td>0.0</td>\n",
       "      <td>0</td>\n",
       "      <td>test url</td>\n",
       "    </tr>\n",
       "    <tr>\n",
       "      <th>1</th>\n",
       "      <td>2</td>\n",
       "      <td>0</td>\n",
       "      <td>Finally a transparant silicon case ^^ Thanks t...</td>\n",
       "      <td>yay sony xperia s sonyexperias…</td>\n",
       "      <td>5.0</td>\n",
       "      <td>:)</td>\n",
       "      <td>1.0</td>\n",
       "      <td>17</td>\n",
       "      <td>0.0</td>\n",
       "      <td>2</td>\n",
       "      <td>finally a transparant silicon case ^^ thanks t...</td>\n",
       "    </tr>\n",
       "    <tr>\n",
       "      <th>2</th>\n",
       "      <td>3</td>\n",
       "      <td>0</td>\n",
       "      <td>We love this! Would you go? #talk #makememorie...</td>\n",
       "      <td>iphone smartphone relax unplug makememories wi...</td>\n",
       "      <td>8.0</td>\n",
       "      <td>noemoji</td>\n",
       "      <td>0.0</td>\n",
       "      <td>15</td>\n",
       "      <td>0.0</td>\n",
       "      <td>0</td>\n",
       "      <td>we love this! would you go? url</td>\n",
       "    </tr>\n",
       "    <tr>\n",
       "      <th>3</th>\n",
       "      <td>4</td>\n",
       "      <td>0</td>\n",
       "      <td>I'm wired I know I'm George I was made that wa...</td>\n",
       "      <td>iphone home cute daventry</td>\n",
       "      <td>4.0</td>\n",
       "      <td>;)</td>\n",
       "      <td>1.0</td>\n",
       "      <td>17</td>\n",
       "      <td>0.0</td>\n",
       "      <td>0</td>\n",
       "      <td>i'm wired i know i'm george i was made that wa...</td>\n",
       "    </tr>\n",
       "    <tr>\n",
       "      <th>4</th>\n",
       "      <td>5</td>\n",
       "      <td>1</td>\n",
       "      <td>What amazing service! Apple won't even talk to...</td>\n",
       "      <td>no_topics</td>\n",
       "      <td>0.0</td>\n",
       "      <td>noemoji</td>\n",
       "      <td>0.0</td>\n",
       "      <td>23</td>\n",
       "      <td>0.0</td>\n",
       "      <td>0</td>\n",
       "      <td>what amazing service! apple won't even talk to...</td>\n",
       "    </tr>\n",
       "  </tbody>\n",
       "</table>\n",
       "</div>"
      ],
      "text/plain": [
       "   id  label                                              tweet  \\\n",
       "0   1      0  #fingerprint #Pregnancy Test https://goo.gl/h1...   \n",
       "1   2      0  Finally a transparant silicon case ^^ Thanks t...   \n",
       "2   3      0  We love this! Would you go? #talk #makememorie...   \n",
       "3   4      0  I'm wired I know I'm George I was made that wa...   \n",
       "4   5      1  What amazing service! Apple won't even talk to...   \n",
       "\n",
       "                                              topics  num_topics  \\\n",
       "0  android iphone iphonesia cute iphoneonly apps ...        11.0   \n",
       "1                    yay sony xperia s sonyexperias…         5.0   \n",
       "2  iphone smartphone relax unplug makememories wi...         8.0   \n",
       "3                          iphone home cute daventry         4.0   \n",
       "4                                          no_topics         0.0   \n",
       "\n",
       "  extracted_emojis  num_emojis  length_of_tweet  num_of_slurrs  emoji_score  \\\n",
       "0          noemoji         0.0               13            0.0            0   \n",
       "1               :)         1.0               17            0.0            2   \n",
       "2          noemoji         0.0               15            0.0            0   \n",
       "3               ;)         1.0               17            0.0            0   \n",
       "4          noemoji         0.0               23            0.0            0   \n",
       "\n",
       "                                  tweet_preprocessed  \n",
       "0                                           test url  \n",
       "1  finally a transparant silicon case ^^ thanks t...  \n",
       "2                    we love this! would you go? url  \n",
       "3  i'm wired i know i'm george i was made that wa...  \n",
       "4  what amazing service! apple won't even talk to...  "
      ]
     },
     "execution_count": 12,
     "metadata": {},
     "output_type": "execute_result"
    }
   ],
   "source": [
    "train.head()"
   ]
  },
  {
   "cell_type": "code",
   "execution_count": 15,
   "metadata": {
    "tags": []
   },
   "outputs": [],
   "source": [
    "# numerical features\n",
    "numeric_features = [\"num_topics\", \"num_emojis\", \"length_of_tweet\", 'num_of_slurrs', 'emoji_score']\n",
    "numeric_transformer = Pipeline(\n",
    "    [\n",
    "        (\"scaler\", StandardScaler())\n",
    "    ]\n",
    ")\n",
    "\n",
    "\n",
    "# categorical features\n",
    "categorical_features = []\n",
    "# categorical_transformer = OneHotEncoder(handle_unknown=\"ignore\")\n",
    "\n",
    "\n",
    "# text features\n",
    "text_features = ['tweet_preprocessed', 'topics', 'extracted_emojis']\n",
    "text_transformer = FeatureUnion(\n",
    "    [\n",
    "        (\n",
    "            'tweet_tfidf',\n",
    "            Pipeline(\n",
    "                [\n",
    "                    (\n",
    "                        'extract_field',\n",
    "                        FunctionTransformer(lambda x: x['tweet_preprocessed'], validate=False)\n",
    "                    ),\n",
    "                    (\n",
    "                        'tfidf',\n",
    "                        TfidfVectorizer()\n",
    "                    )\n",
    "                ]\n",
    "            )\n",
    "        ),\n",
    "        (\n",
    "            'topic_tfidf',\n",
    "            Pipeline(\n",
    "                [\n",
    "                    (\n",
    "                        'extract_field',\n",
    "                        FunctionTransformer(lambda x: x['topics'], validate=False)\n",
    "                    ),\n",
    "                    (\n",
    "                        'tfidf',\n",
    "                        TfidfVectorizer()\n",
    "                    )\n",
    "                ]\n",
    "            )\n",
    "        ),\n",
    "        (\n",
    "            'emoji_tfidf',\n",
    "            Pipeline(\n",
    "                [\n",
    "                    (\n",
    "                        'extract_field',\n",
    "                        FunctionTransformer(lambda x: x['extracted_emojis'], validate=False)\n",
    "                    ),\n",
    "                    (\n",
    "                        'tfidf',\n",
    "                        TfidfVectorizer()\n",
    "                    )\n",
    "                ]\n",
    "            )\n",
    "        )\n",
    "    ]\n",
    ")\n",
    "\n",
    "preprocessor = ColumnTransformer(\n",
    "    transformers=[\n",
    "        (\"num\", numeric_transformer, numeric_features),\n",
    "        (\"text\", text_transformer, text_features),\n",
    "    ]\n",
    ")"
   ]
  },
  {
   "cell_type": "markdown",
   "metadata": {},
   "source": [
    "# For Logistic Regression"
   ]
  },
  {
   "cell_type": "code",
   "execution_count": 17,
   "metadata": {
    "tags": []
   },
   "outputs": [
    {
     "name": "stdout",
     "output_type": "stream",
     "text": [
      "Gridsearch score is 0.8016483134280918\n",
      "{'classifier__C': 1, 'preprocessor__text__emoji_tfidf__tfidf__ngram_range': (1, 1), 'preprocessor__text__topic_tfidf__tfidf__ngram_range': (1, 1), 'preprocessor__text__tweet_tfidf__tfidf__ngram_range': (1, 2)}\n"
     ]
    }
   ],
   "source": [
    "ppl_logistic = Pipeline(\n",
    "    steps=[(\"preprocessor\", preprocessor), (\"classifier\", LogisticRegression())]\n",
    ")\n",
    "\n",
    "parameters = {\n",
    "    # tweet text features\n",
    "    \"preprocessor__text__tweet_tfidf__tfidf__ngram_range\": [(1, 2)],\n",
    "    # \"preprocessor__text__tweet_tfidf__tfidf__min_df\": [5],\n",
    "    # \"preprocessor__text__tweet_tfidf__tfidf__max_df\": [0.90],\n",
    "    \n",
    "    # topic text features\n",
    "    \"preprocessor__text__topic_tfidf__tfidf__ngram_range\": [(1, 1)],\n",
    "    # \"preprocessor__text__topic_tfidf__tfidf__min_df\": [2],\n",
    "    # \"preprocessor__text__topic_tfidf__tfidf__max_df\": [0.90],\n",
    "    \n",
    "    # emoji text features\n",
    "    \"preprocessor__text__emoji_tfidf__tfidf__ngram_range\": [(1, 1)],\n",
    "    # \"preprocessor__text__emoji_tfidf__tfidf__min_df\": [1],\n",
    "    # \"preprocessor__text__emoji_tfidf__tfidf__max_df\": [0.90],\n",
    "\n",
    "    # classifier features\n",
    "    \"classifier__C\": [1],\n",
    "    # \"classifier__kernel\": [\"linear\"],\n",
    "    # \"classifier__C\": [1],\n",
    "    # 'classifier__random_forest__n_estimators': [100],\n",
    "    # 'classifier__knn__n_neighbors': [5]\n",
    "\n",
    "}\n",
    "\n",
    "# train the classifier\n",
    "clf = GridSearchCV(ppl_logistic, parameters, cv=10, scoring=\"f1\")\n",
    "clf.fit(train, train[\"label\"])\n",
    "\n",
    "print(\"Gridsearch score is {}\".format(clf.best_score_))\n",
    "print(clf.best_params_)"
   ]
  },
  {
   "cell_type": "markdown",
   "metadata": {},
   "source": [
    "# For SVM"
   ]
  },
  {
   "cell_type": "code",
   "execution_count": 18,
   "metadata": {
    "tags": []
   },
   "outputs": [
    {
     "name": "stdout",
     "output_type": "stream",
     "text": [
      "Gridsearch score is 0.8154707704817479\n",
      "{'classifier__C': 1, 'classifier__kernel': 'linear', 'preprocessor__text__emoji_tfidf__tfidf__ngram_range': (1, 1), 'preprocessor__text__topic_tfidf__tfidf__ngram_range': (1, 1), 'preprocessor__text__tweet_tfidf__tfidf__ngram_range': (1, 1)}\n"
     ]
    }
   ],
   "source": [
    "ppl_svm = Pipeline(\n",
    "    steps=[(\"preprocessor\", preprocessor), (\"classifier\", SVC())]\n",
    ")\n",
    "\n",
    "parameters = {\n",
    "    # tweet text features\n",
    "    \"preprocessor__text__tweet_tfidf__tfidf__ngram_range\": [(1, 1)],\n",
    "    # \"preprocessor__text__tweet_tfidf__tfidf__min_df\": [5],\n",
    "    # \"preprocessor__text__tweet_tfidf__tfidf__max_df\": [0.90],\n",
    "    \n",
    "    # topic text features\n",
    "    \"preprocessor__text__topic_tfidf__tfidf__ngram_range\": [(1, 1)],\n",
    "    # \"preprocessor__text__topic_tfidf__tfidf__min_df\": [2],\n",
    "    # \"preprocessor__text__topic_tfidf__tfidf__max_df\": [0.90],\n",
    "    \n",
    "    # emoji text features\n",
    "    \"preprocessor__text__emoji_tfidf__tfidf__ngram_range\": [(1, 1)],\n",
    "    # \"preprocessor__text__emoji_tfidf__tfidf__min_df\": [1],\n",
    "    # \"preprocessor__text__emoji_tfidf__tfidf__max_df\": [0.90],\n",
    "\n",
    "    # classifier features\n",
    "    # \"classifier__C\": [1],\n",
    "    \"classifier__kernel\": [\"linear\"],\n",
    "    \"classifier__C\": [1],\n",
    "    # 'classifier__random_forest__n_estimators': [100],\n",
    "    # 'classifier__knn__n_neighbors': [5]\n",
    "\n",
    "}\n",
    "\n",
    "# train the classifier\n",
    "clf = GridSearchCV(ppl_svm, parameters, cv=10, scoring=\"f1\")\n",
    "clf.fit(train, train[\"label\"])\n",
    "\n",
    "print(\"Gridsearch score is {}\".format(clf.best_score_))\n",
    "print(clf.best_params_)"
   ]
  },
  {
   "cell_type": "code",
   "execution_count": null,
   "metadata": {},
   "outputs": [],
   "source": []
  },
  {
   "cell_type": "markdown",
   "metadata": {},
   "source": [
    "# For Random Forest"
   ]
  },
  {
   "cell_type": "code",
   "execution_count": 19,
   "metadata": {
    "tags": []
   },
   "outputs": [
    {
     "name": "stdout",
     "output_type": "stream",
     "text": [
      "Gridsearch score is 0.791755568674325\n",
      "{'classifier__n_estimators': 100, 'preprocessor__text__emoji_tfidf__tfidf__ngram_range': (1, 1), 'preprocessor__text__topic_tfidf__tfidf__ngram_range': (1, 1), 'preprocessor__text__tweet_tfidf__tfidf__ngram_range': (1, 1)}\n"
     ]
    }
   ],
   "source": [
    "ppl_random_Forest = Pipeline(\n",
    "    steps=[(\"preprocessor\", preprocessor), (\"classifier\", RandomForestClassifier())]\n",
    ")\n",
    "\n",
    "parameters = {\n",
    "    # tweet text features\n",
    "    \"preprocessor__text__tweet_tfidf__tfidf__ngram_range\": [(1, 1)],\n",
    "    # \"preprocessor__text__tweet_tfidf__tfidf__min_df\": [5],\n",
    "    # \"preprocessor__text__tweet_tfidf__tfidf__max_df\": [0.90],\n",
    "    \n",
    "    # topic text features\n",
    "    \"preprocessor__text__topic_tfidf__tfidf__ngram_range\": [(1, 1)],\n",
    "    # \"preprocessor__text__topic_tfidf__tfidf__min_df\": [2],\n",
    "    # \"preprocessor__text__topic_tfidf__tfidf__max_df\": [0.90],\n",
    "    \n",
    "    # emoji text features\n",
    "    \"preprocessor__text__emoji_tfidf__tfidf__ngram_range\": [(1, 1)],\n",
    "    # \"preprocessor__text__emoji_tfidf__tfidf__min_df\": [1],\n",
    "    # \"preprocessor__text__emoji_tfidf__tfidf__max_df\": [0.90],\n",
    "\n",
    "    # classifier features\n",
    "    # \"classifier__C\": [1],\n",
    "    # \"classifier__kernel\": [\"linear\"],\n",
    "    # \"classifier__C\": [1],\n",
    "    'classifier__n_estimators': [100],\n",
    "    # 'classifier__knn__n_neighbors': [5]\n",
    "\n",
    "}\n",
    "\n",
    "# train the classifier\n",
    "clf = GridSearchCV(ppl_random_Forest, parameters, cv=10, scoring=\"f1\")\n",
    "clf.fit(train, train[\"label\"])\n",
    "\n",
    "print(\"Gridsearch score is {}\".format(clf.best_score_))\n",
    "print(clf.best_params_)"
   ]
  },
  {
   "cell_type": "code",
   "execution_count": null,
   "metadata": {},
   "outputs": [],
   "source": []
  },
  {
   "cell_type": "markdown",
   "metadata": {},
   "source": [
    "# For KNN"
   ]
  },
  {
   "cell_type": "code",
   "execution_count": 20,
   "metadata": {
    "tags": []
   },
   "outputs": [
    {
     "name": "stdout",
     "output_type": "stream",
     "text": [
      "Gridsearch score is 0.7717332324324668\n",
      "{'classifier__n_neighbors': 5, 'preprocessor__text__emoji_tfidf__tfidf__ngram_range': (1, 1), 'preprocessor__text__topic_tfidf__tfidf__ngram_range': (1, 1), 'preprocessor__text__tweet_tfidf__tfidf__ngram_range': (1, 1)}\n"
     ]
    }
   ],
   "source": [
    "ppl_knn = Pipeline(\n",
    "    steps=[(\"preprocessor\", preprocessor), (\"classifier\", KNeighborsClassifier())]\n",
    ")\n",
    "\n",
    "parameters = {\n",
    "    # tweet text features\n",
    "    \"preprocessor__text__tweet_tfidf__tfidf__ngram_range\": [(1, 1)],\n",
    "    # \"preprocessor__text__tweet_tfidf__tfidf__min_df\": [5],\n",
    "    # \"preprocessor__text__tweet_tfidf__tfidf__max_df\": [0.90],\n",
    "    \n",
    "    # topic text features\n",
    "    \"preprocessor__text__topic_tfidf__tfidf__ngram_range\": [(1, 1)],\n",
    "    # \"preprocessor__text__topic_tfidf__tfidf__min_df\": [2],\n",
    "    # \"preprocessor__text__topic_tfidf__tfidf__max_df\": [0.90],\n",
    "    \n",
    "    # emoji text features\n",
    "    \"preprocessor__text__emoji_tfidf__tfidf__ngram_range\": [(1, 1)],\n",
    "    # \"preprocessor__text__emoji_tfidf__tfidf__min_df\": [1],\n",
    "    # \"preprocessor__text__emoji_tfidf__tfidf__max_df\": [0.90],\n",
    "\n",
    "    # classifier features\n",
    "    # \"classifier__C\": [1],\n",
    "    # \"classifier__kernel\": [\"linear\"],\n",
    "    # \"classifier__C\": [1],\n",
    "    # 'classifier__n_estimators': [100],\n",
    "    'classifier__n_neighbors': [5]\n",
    "\n",
    "}\n",
    "\n",
    "# train the classifier\n",
    "clf = GridSearchCV(ppl_knn, parameters, cv=10, scoring=\"f1\")\n",
    "clf.fit(train, train[\"label\"])\n",
    "\n",
    "print(\"Gridsearch score is {}\".format(clf.best_score_))\n",
    "print(clf.best_params_)"
   ]
  },
  {
   "cell_type": "code",
   "execution_count": null,
   "metadata": {},
   "outputs": [],
   "source": []
  },
  {
   "cell_type": "markdown",
   "metadata": {},
   "source": [
    "# For AdaBoostClassifier"
   ]
  },
  {
   "cell_type": "code",
   "execution_count": 22,
   "metadata": {
    "tags": []
   },
   "outputs": [
    {
     "name": "stdout",
     "output_type": "stream",
     "text": [
      "Gridsearch score is 0.7845636754338761\n",
      "{'classifier__n_estimators': 100, 'preprocessor__text__emoji_tfidf__tfidf__ngram_range': (1, 1), 'preprocessor__text__topic_tfidf__tfidf__ngram_range': (1, 1), 'preprocessor__text__tweet_tfidf__tfidf__ngram_range': (1, 1)}\n"
     ]
    }
   ],
   "source": [
    "ppl_ada = Pipeline(\n",
    "    steps=[(\"preprocessor\", preprocessor), (\"classifier\", AdaBoostClassifier())]\n",
    ")\n",
    "\n",
    "parameters = {\n",
    "    # tweet text features\n",
    "    \"preprocessor__text__tweet_tfidf__tfidf__ngram_range\": [(1, 1)],\n",
    "    # \"preprocessor__text__tweet_tfidf__tfidf__min_df\": [5],\n",
    "    # \"preprocessor__text__tweet_tfidf__tfidf__max_df\": [0.90],\n",
    "    \n",
    "    # topic text features\n",
    "    \"preprocessor__text__topic_tfidf__tfidf__ngram_range\": [(1, 1)],\n",
    "    # \"preprocessor__text__topic_tfidf__tfidf__min_df\": [2],\n",
    "    # \"preprocessor__text__topic_tfidf__tfidf__max_df\": [0.90],\n",
    "    \n",
    "    # emoji text features\n",
    "    \"preprocessor__text__emoji_tfidf__tfidf__ngram_range\": [(1, 1)],\n",
    "    # \"preprocessor__text__emoji_tfidf__tfidf__min_df\": [1],\n",
    "    # \"preprocessor__text__emoji_tfidf__tfidf__max_df\": [0.90],\n",
    "\n",
    "    # classifier features\n",
    "    # \"classifier__C\": [1],\n",
    "    # \"classifier__kernel\": [\"linear\"],\n",
    "    # \"classifier__C\": [1],\n",
    "    'classifier__n_estimators': [100],\n",
    "    # 'classifier__n_neighbors': [5]\n",
    "\n",
    "}\n",
    "\n",
    "# train the classifier\n",
    "clf = GridSearchCV(ppl_ada, parameters, cv=10, scoring=\"f1\")\n",
    "clf.fit(train, train[\"label\"])\n",
    "\n",
    "print(\"Gridsearch score is {}\".format(clf.best_score_))\n",
    "print(clf.best_params_)"
   ]
  },
  {
   "cell_type": "code",
   "execution_count": 15,
   "metadata": {
    "tags": []
   },
   "outputs": [],
   "source": [
    "from sklearn.utils import estimator_html_repr\n",
    "\n",
    "with open(\"pipeline_image_svm.html\", \"w\") as f:\n",
    "    f.write(estimator_html_repr(ppl_svm))"
   ]
  },
  {
   "cell_type": "code",
   "execution_count": 103,
   "metadata": {},
   "outputs": [],
   "source": [
    "def create_df(text):\n",
    "    df = pd.DataFrame()\n",
    "    df['tweet'] = [text]\n",
    "    df[\"topics\"] = df.tweet.apply(extract_topics)\n",
    "    df[\"num_topics\"] = df.tweet.apply(num_topics)\n",
    "    df[\"extracted_emojis\"] = df.tweet.apply(extract_emojis)\n",
    "    df[\"num_emojis\"] = df.tweet.apply(num_emojis)\n",
    "    df[\"length_of_tweet\"] = df.tweet.apply(length_of_tweet)\n",
    "    df[\"num_of_slurrs\"] = df.tweet.apply(num_of_slurrs)\n",
    "    df[\"emoji_score\"] = df.tweet.apply(get_emoji_score)\n",
    "    df['tweet'] = df.tweet.apply(preprocess_tweet)\n",
    "    return df"
   ]
  },
  {
   "cell_type": "code",
   "execution_count": 104,
   "metadata": {},
   "outputs": [
    {
     "data": {
      "text/html": [
       "<div>\n",
       "<style scoped>\n",
       "    .dataframe tbody tr th:only-of-type {\n",
       "        vertical-align: middle;\n",
       "    }\n",
       "\n",
       "    .dataframe tbody tr th {\n",
       "        vertical-align: top;\n",
       "    }\n",
       "\n",
       "    .dataframe thead th {\n",
       "        text-align: right;\n",
       "    }\n",
       "</style>\n",
       "<table border=\"1\" class=\"dataframe\">\n",
       "  <thead>\n",
       "    <tr style=\"text-align: right;\">\n",
       "      <th></th>\n",
       "      <th>tweet</th>\n",
       "      <th>topics</th>\n",
       "      <th>num_topics</th>\n",
       "      <th>extracted_emojis</th>\n",
       "      <th>num_emojis</th>\n",
       "      <th>length_of_tweet</th>\n",
       "      <th>num_of_slurrs</th>\n",
       "      <th>emoji_score</th>\n",
       "    </tr>\n",
       "  </thead>\n",
       "  <tbody>\n",
       "    <tr>\n",
       "      <th>0</th>\n",
       "      <td>i am feeling good today</td>\n",
       "      <td>no_topics</td>\n",
       "      <td>0.0</td>\n",
       "      <td>noemoji</td>\n",
       "      <td>0.0</td>\n",
       "      <td>5</td>\n",
       "      <td>0.0</td>\n",
       "      <td>0</td>\n",
       "    </tr>\n",
       "  </tbody>\n",
       "</table>\n",
       "</div>"
      ],
      "text/plain": [
       "                     tweet     topics  num_topics extracted_emojis  \\\n",
       "0  i am feeling good today  no_topics         0.0          noemoji   \n",
       "\n",
       "   num_emojis  length_of_tweet  num_of_slurrs  emoji_score  \n",
       "0         0.0                5            0.0            0  "
      ]
     },
     "execution_count": 104,
     "metadata": {},
     "output_type": "execute_result"
    }
   ],
   "source": [
    "df = create_df('I am feeling good today')\n",
    "df.head()"
   ]
  },
  {
   "cell_type": "code",
   "execution_count": null,
   "metadata": {},
   "outputs": [],
   "source": []
  }
 ],
 "metadata": {
  "colab": {
   "provenance": []
  },
  "kernelspec": {
   "display_name": "pytorch2",
   "language": "python",
   "name": "pytorch2"
  },
  "language_info": {
   "codemirror_mode": {
    "name": "ipython",
    "version": 3
   },
   "file_extension": ".py",
   "mimetype": "text/x-python",
   "name": "python",
   "nbconvert_exporter": "python",
   "pygments_lexer": "ipython3",
   "version": "3.9.12"
  }
 },
 "nbformat": 4,
 "nbformat_minor": 4
}
